{
 "cells": [
  {
   "attachments": {},
   "cell_type": "markdown",
   "metadata": {},
   "source": [
    "# 0. Imports & setting up"
   ]
  },
  {
   "cell_type": "code",
   "execution_count": null,
   "metadata": {},
   "outputs": [],
   "source": [
    "import torch\n",
    "from torch import nn\n",
    "from torch import optim\n",
    "import torchvision\n",
    "import torchvision.transforms as transforms\n",
    "from torch.utils.data import DataLoader\n",
    "from src.srgan import Discriminator, Generator\n",
    "from src.loss import GeneratorLoss\n",
    "from src.data import SuperResolutionImageDataset\n",
    "from torchsummary import summary\n",
    "import torchvision.utils as torchvision_utils\n",
    "import os\n",
    "import matplotlib.pyplot as plt\n",
    "import matplotlib.animation as animation\n",
    "import numpy as np\n",
    "from IPython.display import HTML"
   ]
  },
  {
   "cell_type": "code",
   "execution_count": null,
   "metadata": {},
   "outputs": [],
   "source": [
    "device = torch.device(\"mps\" if torch.backends.mps.is_available() else \"cpu\")\n",
    "print(device)"
   ]
  },
  {
   "attachments": {},
   "cell_type": "markdown",
   "metadata": {},
   "source": [
    "# 1. Weights"
   ]
  },
  {
   "cell_type": "code",
   "execution_count": null,
   "metadata": {},
   "outputs": [],
   "source": [
    "# CHANGE\n",
    "def weights_init(m):\n",
    "    classname = m.__class__.__name__\n",
    "    if classname.find('Conv') != -1:\n",
    "        nn.init.normal_(m.weight.data, 0.0, 0.02)\n",
    "    elif classname.find('BatchNorm') != -1:\n",
    "        nn.init.normal_(m.weight.data, 1.0, 0.02)\n",
    "        nn.init.constant_(m.bias.data, 0)"
   ]
  },
  {
   "attachments": {},
   "cell_type": "markdown",
   "metadata": {},
   "source": [
    "# 2. Training"
   ]
  },
  {
   "cell_type": "code",
   "execution_count": null,
   "metadata": {},
   "outputs": [],
   "source": [
    "checkpoint_path = \"./checkpoints\"\n",
    "checkpoint_period = 500\n",
    "restore_network = False"
   ]
  },
  {
   "cell_type": "code",
   "execution_count": null,
   "metadata": {},
   "outputs": [],
   "source": [
    "#Input Parameters\n",
    "data_path = \"./data/Renders/\"\n",
    "r = 4\n",
    "n_channels = 3\n",
    "B = 1\n",
    "batch_size_train = 128\n",
    "batch_size_validation = 128\n",
    "workers = 1\n",
    "seed = 1317\n",
    "train_test_val_split = [.7, .15, .15]"
   ]
  },
  {
   "cell_type": "code",
   "execution_count": null,
   "metadata": {},
   "outputs": [],
   "source": [
    "#Training parameters\n",
    "lr = 1e-4\n",
    "beta1 = 0.9\n",
    "num_epochs = 1000\n",
    "update_optimizer = 1000\n",
    "update_discriminator = 2"
   ]
  },
  {
   "cell_type": "code",
   "execution_count": null,
   "metadata": {},
   "outputs": [],
   "source": [
    "hr_size = (128,128)\n",
    "lr_size = (hr_size[0]//r, hr_size[1]//r)\n",
    "hr_dimension = (*hr_size,n_channels)\n",
    "lr_dimension = (*lr_size,n_channels)"
   ]
  },
  {
   "cell_type": "code",
   "execution_count": null,
   "metadata": {},
   "outputs": [],
   "source": [
    "dataset = SuperResolutionImageDataset(\n",
    "    root = data_path,\n",
    "    transform = transforms.Compose([\n",
    "        transforms.RandomCrop(hr_size),\n",
    "    ]),\n",
    "    target_transform = transforms.Compose([\n",
    "        # transforms.GaussianBlur(3,1),\n",
    "        transforms.Resize(lr_size),\n",
    "    ])\n",
    ")\n",
    "\n",
    "random_generator = torch.Generator().manual_seed(seed)\n",
    "train_dataset, test_dataset, validation_dataset = torch.utils.data.random_split(dataset,train_test_val_split,random_generator)\n",
    "\n",
    "train_dataloader = DataLoader(\n",
    "    train_dataset,\n",
    "    batch_size = batch_size_train,\n",
    "    shuffle = True,\n",
    "    num_workers = workers\n",
    ")\n",
    "validation_dataloader = DataLoader(\n",
    "    validation_dataset,\n",
    "    batch_size = batch_size_validation,\n",
    "    shuffle = True,\n",
    "    num_workers = workers\n",
    ")"
   ]
  },
  {
   "cell_type": "code",
   "execution_count": null,
   "metadata": {},
   "outputs": [],
   "source": [
    "netD = Discriminator(hr_dimension)\n",
    "netG = Generator(lr_dimension,B)\n",
    "netD.to(device)\n",
    "netG.to(device)\n",
    "pass"
   ]
  },
  {
   "cell_type": "code",
   "execution_count": null,
   "metadata": {},
   "outputs": [],
   "source": [
    "if restore_network:\n",
    "    gen_load = torch.load(f'{checkpoint_path}/generator')\n",
    "    dis_load = torch.load(f'{checkpoint_path}/discriminator')\n",
    "    initial_epoch = gen_load['epoch']\n",
    "    netG.load_state_dict(gen_load['model_state_dict'])\n",
    "    optimizerG = optim.Adam(netG.parameters())\n",
    "    optimizerG.load_state_dict(gen_load['optimizer_state_dict'])\n",
    "    netD.load_state_dict(dis_load['model_state_dict'])\n",
    "    optimizerD = optim.Adam(netD.parameters())\n",
    "    optimizerD.load_state_dict(dis_load['optimizer_state_dict'])\n",
    "else: \n",
    "    initial_epoch = 1\n",
    "    netD.apply(weights_init)\n",
    "    netG.apply(weights_init)\n",
    "    optimizerD = optim.Adam(netD.parameters(), lr=lr, betas=(beta1, 0.999))\n",
    "    optimizerG = optim.Adam(netG.parameters(), lr=lr, betas=(beta1, 0.999))\n",
    "pass"
   ]
  },
  {
   "cell_type": "code",
   "execution_count": null,
   "metadata": {},
   "outputs": [],
   "source": [
    "# Discriminator Loss (Adversarial)\n",
    "criterionD = nn.BCELoss()\n",
    "\n",
    "# Generator Loss\n",
    "criterionG = GeneratorLoss(device)\n",
    "\n",
    "#Label Definition\n",
    "real_label = 0.90\n",
    "fake_label = 0.0"
   ]
  },
  {
   "cell_type": "code",
   "execution_count": null,
   "metadata": {},
   "outputs": [],
   "source": [
    "lr_schedulerD = optim.lr_scheduler.ExponentialLR(optimizerD, 0.1, verbose = True)\n",
    "lr_schedulerG = optim.lr_scheduler.ExponentialLR(optimizerG, 0.1, verbose = True)"
   ]
  },
  {
   "cell_type": "code",
   "execution_count": null,
   "metadata": {},
   "outputs": [],
   "source": [
    "# Training Loop\n",
    "\n",
    "# Lists to keep track of progress\n",
    "img_list = []\n",
    "G_losses = []\n",
    "D_losses = []\n",
    "iters = 0\n",
    "errD = criterionD(torch.tensor([1.]),torch.tensor([0.]))\n",
    "D_x = 0.5\n",
    "D_G_z1 = 0.5\n",
    "\n",
    "print(\"Starting Training Loop...\")\n",
    "# For each epoch\n",
    "for epoch in range(initial_epoch,num_epochs):\n",
    "    # For each batch in the dataloader\n",
    "    for i, data in enumerate(train_dataloader,0):\n",
    "\n",
    "        updateD = (i%update_discriminator == 0)\n",
    "\n",
    "        ############################\n",
    "        # (1) Update D network: maximize log(D(x)) + log(1 - D(G(z)))\n",
    "        ###########################\n",
    "        ## Train with all-real batch\n",
    "        netD.zero_grad()\n",
    "        # Format batch\n",
    "        hr_cpu = data[\"hr_sample\"].to(device)\n",
    "        lr_cpu = data[\"lr_sample\"].to(device)\n",
    "        b_size = hr_cpu.size(0)\n",
    "        label = torch.full((b_size,), real_label, dtype=torch.float, device=device)\n",
    "\n",
    "        # Generate fake image batch with G\n",
    "        fake = netG(lr_cpu)\n",
    "\n",
    "        if updateD: #Update D only if it is not significantly better than G\n",
    "            # Forward pass real batch through D\n",
    "            output = netD(hr_cpu).view(-1)\n",
    "            # Calculate loss on all-real batch\n",
    "            errD_real = criterionD(output, label)\n",
    "            # Calculate gradients for D in backward pass\n",
    "            errD_real.backward()\n",
    "            D_x = output.mean().item()\n",
    "\n",
    "            ## Train with all-fake batch\n",
    "\n",
    "            label.fill_(fake_label)\n",
    "            # Classify all fake batch with D\n",
    "            output = netD(fake.detach()).view(-1)\n",
    "            # Calculate D's loss on the all-fake batch\n",
    "            errD_fake = criterionD(output, label)\n",
    "            # Calculate the gradients for this batch, accumulated (summed) with previous gradients\n",
    "            errD_fake.backward()\n",
    "            D_G_z1 = output.mean().item()\n",
    "            # Compute error of D as sum over the fake and the real batches\n",
    "            errD = errD_real + errD_fake\n",
    "            # Update D\n",
    "            optimizerD.step()\n",
    "\n",
    "        ############################\n",
    "        # (2) Update G network: maximize log(D(G(z)))\n",
    "        ###########################\n",
    "        netG.zero_grad()\n",
    "        label.fill_(real_label)  # fake labels are real for generator cost\n",
    "        # Since we just updated D, perform another forward pass of all-fake batch through D\n",
    "        output = netD(fake).view(-1)\n",
    "        # Calculate G's loss based on this output\n",
    "        errG_all = criterionG(output, label, hr_cpu, fake)\n",
    "        adv_lossG = errG_all[\"adversarial_loss\"]\n",
    "        pixel_lossG = errG_all[\"pixel_loss\"]\n",
    "        perceptual_lossG = errG_all[\"perceptual_loss\"]\n",
    "        errG = 1e-3*adv_lossG + 0.5*(perceptual_lossG + pixel_lossG) # No 6e-3 since we are normalizing VGG output\n",
    "        # Calculate gradients for G\n",
    "        errG.backward()\n",
    "        D_G_z2 = output.mean().item()\n",
    "        # Update G\n",
    "        optimizerG.step()\n",
    "\n",
    "        # Output training stats\n",
    "        if i % 50 == 0:\n",
    "            print('[%d/%d][%d/%d]\\tLoss_D: %.4f\\tLoss_G: %.4f(total)/%.4f(Adv)/%.4f(Pixel)/%.4f(Perc)\\tD(x): %.4f\\tD(G(z)): %.4f / %.4f'\n",
    "                  % (epoch, num_epochs, i, len(train_dataloader),\n",
    "                     errD.item(), errG.item(), adv_lossG.item(), pixel_lossG.item(), perceptual_lossG.item(), D_x, D_G_z1, D_G_z2))\n",
    "\n",
    "        # Save Losses for plotting later\n",
    "        G_losses.append(errG.item())\n",
    "        D_losses.append(errD.item())\n",
    "\n",
    "        # Check how the generator is doing by saving G's output on fixed_noise\n",
    "        if (epoch % 1 == 0) or ((epoch == num_epochs-1) and (i == len(train_dataloader)-1)):\n",
    "            with torch.no_grad():\n",
    "                fake = netG(lr_cpu).detach().cpu()\n",
    "            img_list.append(torchvision_utils.make_grid(fake, padding=2, normalize=True))\n",
    "\n",
    "        iters += 1\n",
    "    \n",
    "    # Update optimizers at end of epoch\n",
    "    if epoch !=0 and epoch%update_optimizer == 0:\n",
    "        lr_schedulerD.step()\n",
    "        lr_schedulerG.step()\n",
    "\n",
    "    if epoch !=0 and epoch%checkpoint_period == 0:\n",
    "        torch.save({\n",
    "                'epoch': epoch,\n",
    "                'model_state_dict': netG.state_dict(),\n",
    "                'optimizer_state_dict': optimizerG.state_dict(),\n",
    "                'loss': errG.item(),\n",
    "                }, \n",
    "                checkpoint_path+\"/generator\"\n",
    "        )\n",
    "        \n",
    "        torch.save({\n",
    "                'epoch': epoch,\n",
    "                'model_state_dict': netD.state_dict(),\n",
    "                'optimizer_state_dict': optimizerD.state_dict(),\n",
    "                'loss': errG.item(),\n",
    "                }, \n",
    "                checkpoint_path+\"/discriminator\"\n",
    "        )"
   ]
  }
 ],
 "metadata": {
  "kernelspec": {
   "display_name": "srgan_pytorch",
   "language": "python",
   "name": "python3"
  },
  "language_info": {
   "codemirror_mode": {
    "name": "ipython",
    "version": 3
   },
   "file_extension": ".py",
   "mimetype": "text/x-python",
   "name": "python",
   "nbconvert_exporter": "python",
   "pygments_lexer": "ipython3",
   "version": "3.10.10"
  },
  "orig_nbformat": 4,
  "vscode": {
   "interpreter": {
    "hash": "9a1c43809e71a1007c6ae25ce647801cd0e9f06a01c51a27ea4175e4e42c260b"
   }
  }
 },
 "nbformat": 4,
 "nbformat_minor": 2
}
